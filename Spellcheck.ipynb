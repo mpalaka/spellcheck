{
 "cells": [
  {
   "cell_type": "code",
   "execution_count": 123,
   "metadata": {},
   "outputs": [],
   "source": [
    "#mohana palaka\n",
    "#9.9.2020\n",
    "#spellcheck, as decribed by peter norvig in https://norvig.com/spell-correct.html"
   ]
  },
  {
   "cell_type": "code",
   "execution_count": 95,
   "metadata": {},
   "outputs": [],
   "source": [
    "import re\n",
    "import chardet #to detect the encoding of the file; it may not always be utf-8\n",
    "from collections import Counter"
   ]
  },
  {
   "cell_type": "code",
   "execution_count": 96,
   "metadata": {},
   "outputs": [],
   "source": [
    "#function to derive a library of words to form the basis of our spellchecker\n",
    "def get_library(filename):\n",
    "    \n",
    "    words = []\n",
    "    \n",
    "    file = open(filename, 'rb').read()\n",
    "    \n",
    "    file_info = chardet.detect(file)\n",
    "    encoding = file_info['encoding']\n",
    "        \n",
    "    file = open(filename, encoding = encoding)\n",
    "    doc = file.read().replace(\"\\n\", \" \")\n",
    "    file.close()\n",
    "    \n",
    "    lower_doc = doc.lower()\n",
    "    \n",
    "    words = re.findall(r'\\w+',lower_doc)\n",
    "    lib = set(words)\n",
    "    \n",
    "    return words,lib\n",
    "\n",
    "#get the probabilities of all the words in the vocabulary\n",
    "def get_probs(raw_words):\n",
    "    \n",
    "    counts = Counter(raw_words) #dict to store the counts of each word\n",
    "    all_words = sum(counts.values())\n",
    "    \n",
    "    probs = {} #dict to store probabilities\n",
    "    \n",
    "    for word in counts:\n",
    "        probs[word] = counts[word]/all_words #basic probability; use bayes?\n",
    "    \n",
    "    return probs\n",
    "\n",
    "#functions for all the possible operations/edits\n",
    "def letter_del(word):\n",
    "    \n",
    "    split = [(word[:i], word[i:]) for i in range(len(word))]\n",
    "    \n",
    "    deletes = [L + R[1:] for L,R in split if R]\n",
    "    \n",
    "    return deletes\n",
    "\n",
    "\n",
    "def letter_ins(word):\n",
    "    \n",
    "    alphabet='abcdefghijklmnopqrstuvwxyz'\n",
    "    \n",
    "    split = [(word[:i], word[i:]) for i in range(len(word)+1)]\n",
    "    \n",
    "    inserts = [L + alphabet[i] + R for L,R in split for i in range(len(alphabet))]\n",
    "    \n",
    "    return inserts\n",
    "\n",
    "def letter_rep(word):\n",
    "    \n",
    "    alphabet='abcdefghijklmnopqrstuvwxyz'\n",
    "    \n",
    "    split = [(word[:i], word[i:]) for i in range(len(word))]\n",
    "    \n",
    "    rep = [L + alphabet[i] + R[1:] for L,R in split for i in range(len(alphabet))]\n",
    "    \n",
    "    #removing duplicates and the word itself\n",
    "    rep_set = set(rep)\n",
    "    rep_set.discard(word)\n",
    "    \n",
    "    rep = list(rep_set)\n",
    "    \n",
    "    return rep\n",
    "\n",
    "#combining all the different types of edits of the mispelled word\n",
    "def one_letter_edits(word):\n",
    "   \n",
    "    all_edits = set(letter_del(word) + letter_ins(word) + letter_rep(word))\n",
    "    \n",
    "    return all_edits\n",
    "    \n",
    "    \n",
    "def two_letter_edits(word):\n",
    "    \n",
    "    #editing the list of one letter edited word will give us all two letter edited words\n",
    "    one_letter_edits_l = one_letter_edits(word)\n",
    "    \n",
    "    all_edits = set(letter_del(word) + letter_ins(word) + letter_rep(word))\n",
    "\n",
    "    return all_edits\n",
    "\n",
    "def autocorrect(word, probs):\n",
    "    \n",
    "    #keep the one and two letter edits seperate; we want to prioritize the one letter edited words\n",
    "    all_cands_one = one_letter_edits(word) \n",
    "    all_cands_two = two_letter_edits(word)  \n",
    "        \n",
    "    #keep a word only if it is a word in the vocabulary\n",
    "    viable_one = [word for word in all_cands_one if word in probs.keys()]\n",
    "    viable_two = [word for word in all_cands_two if word in probs.keys()]\n",
    "\n",
    "        \n",
    "    viable_probs_one, viable_probs_two = {},{}\n",
    "    \n",
    "    for cand in viable_one: \n",
    "        viable_probs_one[cand] = probs.get(cand,0)\n",
    "    for cand2 in viable_two:\n",
    "        viable_probs_two[cand2] = probs.get(cand2,0)\n",
    "\n",
    "    correct_word_one = Counter.most_common(viable_probs_one, 2)\n",
    "    correct_word_two = Counter.most_common(viable_probs_two, 2)\n",
    "    \n",
    "    correct_word = correct_word_one or correct_word_two #preference is given to a one letter edit word; \n",
    "                                                        #only if the list is empty, it suggests a two letter edit word \n",
    "    \n",
    "    best_word = [tup_word for tup_word, tup_prob in correct_word]\n",
    "\n",
    "    return f'Hmm... {word}? Did you mean {best_word[0]} or {best_word[1]}?'\n",
    "    "
   ]
  },
  {
   "cell_type": "code",
   "execution_count": 112,
   "metadata": {},
   "outputs": [
    {
     "name": "stdout",
     "output_type": "stream",
     "text": [
      "there are 17736 unique words in war-and-peace.txt\n"
     ]
    }
   ],
   "source": [
    "txtfile = 'war-and-peace.txt' #i used the book war and peace as my text corpus\n",
    "words, lib = get_library(txtfile) #the word 'hello' doesnt appear even once in war and peace :0\n",
    "\n",
    "print(f'there are {len(lib)} unique words in {txtfile}')"
   ]
  },
  {
   "cell_type": "code",
   "execution_count": 116,
   "metadata": {},
   "outputs": [],
   "source": [
    "#get the dictionary of probabilities   \n",
    "probs = get_probs(words)"
   ]
  },
  {
   "cell_type": "code",
   "execution_count": 121,
   "metadata": {},
   "outputs": [],
   "source": [
    "#change this to any mispelled word \n",
    "mispelled = 'sloe'"
   ]
  },
  {
   "cell_type": "code",
   "execution_count": 122,
   "metadata": {},
   "outputs": [
    {
     "data": {
      "text/plain": [
       "'Hmm... sloe? Did you mean slope or slow?'"
      ]
     },
     "execution_count": 122,
     "metadata": {},
     "output_type": "execute_result"
    }
   ],
   "source": [
    "autocorrect(mispelled, probs)"
   ]
  },
  {
   "cell_type": "code",
   "execution_count": null,
   "metadata": {},
   "outputs": [],
   "source": []
  }
 ],
 "metadata": {
  "kernelspec": {
   "display_name": "Python 3",
   "language": "python",
   "name": "python3"
  },
  "language_info": {
   "codemirror_mode": {
    "name": "ipython",
    "version": 3
   },
   "file_extension": ".py",
   "mimetype": "text/x-python",
   "name": "python",
   "nbconvert_exporter": "python",
   "pygments_lexer": "ipython3",
   "version": "3.6.5"
  }
 },
 "nbformat": 4,
 "nbformat_minor": 4
}
